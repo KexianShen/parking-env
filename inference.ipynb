{
 "cells": [
  {
   "attachments": {},
   "cell_type": "markdown",
   "metadata": {},
   "source": [
    "### PPO for Discrete Action Space"
   ]
  },
  {
   "cell_type": "code",
   "execution_count": null,
   "metadata": {},
   "outputs": [],
   "source": [
    "import gymnasium as gym\n",
    "import numpy as np\n",
    "\n",
    "env = gym.make(\n",
    "    id=\"Parking-v0\", render_mode=\"human\", observation_type=\"rgb\", action_type=\"discrete\"\n",
    ")\n",
    "env = gym.wrappers.GrayScaleObservation(env)\n",
    "env = gym.wrappers.FrameStack(env, 4)"
   ]
  },
  {
   "cell_type": "code",
   "execution_count": null,
   "metadata": {},
   "outputs": [],
   "source": [
    "from parking_ppo import Agent\n",
    "import torch\n",
    "\n",
    "device = torch.device(\"cuda\" if torch.cuda.is_available() else \"cpu\")\n",
    "agent = torch.load(\"ppo.pth\").eval().to(device)"
   ]
  },
  {
   "cell_type": "code",
   "execution_count": null,
   "metadata": {},
   "outputs": [],
   "source": [
    "obs, _ = env.reset(seed=42)\n",
    "terminated = False\n",
    "truncated = False\n",
    "\n",
    "while not terminated and not truncated:\n",
    "    obs = torch.Tensor(np.array(obs)).to(device).unsqueeze(0)\n",
    "    with torch.no_grad():\n",
    "        action, _, _, _ = agent.get_action_and_value(obs)\n",
    "        action = action.cpu().numpy().item()\n",
    "    obs, reward, terminated, truncated, info = env.step(action)"
   ]
  },
  {
   "cell_type": "code",
   "execution_count": null,
   "metadata": {},
   "outputs": [],
   "source": [
    "env.close()"
   ]
  },
  {
   "attachments": {},
   "cell_type": "markdown",
   "metadata": {},
   "source": [
    "### PPO for Multidiscrete Action Space"
   ]
  },
  {
   "cell_type": "code",
   "execution_count": null,
   "metadata": {},
   "outputs": [],
   "source": [
    "import gymnasium as gym\n",
    "import numpy as np\n",
    "\n",
    "env = gym.make(\n",
    "    id=\"Parking-v0\",\n",
    "    render_mode=\"rgb_array\",\n",
    "    observation_type=\"rgb\",\n",
    "    action_type=\"multidiscrete\",\n",
    ")\n",
    "env = gym.wrappers.RecordVideo(env, f\"videos/parking_ppo_multidiscrete\", lambda n: True)\n",
    "env = gym.wrappers.GrayScaleObservation(env)\n",
    "env = gym.wrappers.FrameStack(env, 4)"
   ]
  },
  {
   "cell_type": "code",
   "execution_count": null,
   "metadata": {},
   "outputs": [],
   "source": [
    "from parking_ppo_multidiscrete import Agent\n",
    "import torch\n",
    "\n",
    "device = torch.device(\"cuda\" if torch.cuda.is_available() else \"cpu\")\n",
    "agent = torch.load(\"ppo_multidiscrete.pth\").eval().to(device)"
   ]
  },
  {
   "cell_type": "code",
   "execution_count": null,
   "metadata": {},
   "outputs": [],
   "source": [
    "obs, _ = env.reset(seed=42)\n",
    "terminated = False\n",
    "truncated = False\n",
    "\n",
    "while not terminated and not truncated:\n",
    "    obs = torch.Tensor(np.array(obs)).to(device).unsqueeze(0)\n",
    "    with torch.no_grad():\n",
    "        action, _, _, _ = agent.get_action_and_value(obs)\n",
    "        action = action.cpu().numpy()[0]\n",
    "    obs, reward, terminated, truncated, info = env.step(action)"
   ]
  },
  {
   "cell_type": "code",
   "execution_count": null,
   "metadata": {},
   "outputs": [],
   "source": [
    "env.close()"
   ]
  },
  {
   "attachments": {},
   "cell_type": "markdown",
   "metadata": {},
   "source": [
    "### PPO for Continuous Action Space"
   ]
  },
  {
   "cell_type": "code",
   "execution_count": null,
   "metadata": {},
   "outputs": [],
   "source": [
    "import gymnasium as gym\n",
    "import numpy as np\n",
    "\n",
    "env = gym.make(\n",
    "    id=\"Parking-v0\",\n",
    "    render_mode=\"rgb_array\",\n",
    "    observation_type=\"rgb\",\n",
    "    action_type=\"continuous\",\n",
    ")\n",
    "env = gym.wrappers.RecordVideo(env, f\"videos/parking_ppo_continuous\", lambda n: True)\n",
    "env = gym.wrappers.GrayScaleObservation(env)\n",
    "env = gym.wrappers.FrameStack(env, 4)"
   ]
  },
  {
   "cell_type": "code",
   "execution_count": null,
   "metadata": {},
   "outputs": [],
   "source": [
    "from parking_ppo_continuous import Agent\n",
    "import torch\n",
    "\n",
    "device = torch.device(\"cuda\" if torch.cuda.is_available() else \"cpu\")\n",
    "agent = torch.load(\"ppo_continuous.pth\").eval().to(device)"
   ]
  },
  {
   "cell_type": "code",
   "execution_count": null,
   "metadata": {},
   "outputs": [],
   "source": [
    "obs, _ = env.reset(seed=42)\n",
    "terminated = False\n",
    "truncated = False\n",
    "\n",
    "while not terminated and not truncated:\n",
    "    obs = torch.Tensor(np.array(obs)).to(device).unsqueeze(0)\n",
    "    with torch.no_grad():\n",
    "        action, _, _, _ = agent.get_action_and_value(obs)\n",
    "        action = action.cpu().numpy()[0]\n",
    "    obs, reward, terminated, truncated, info = env.step(action)"
   ]
  },
  {
   "cell_type": "code",
   "execution_count": null,
   "metadata": {},
   "outputs": [],
   "source": [
    "env.close()"
   ]
  }
 ],
 "metadata": {
  "kernelspec": {
   "display_name": "dl",
   "language": "python",
   "name": "python3"
  },
  "language_info": {
   "codemirror_mode": {
    "name": "ipython",
    "version": 3
   },
   "file_extension": ".py",
   "mimetype": "text/x-python",
   "name": "python",
   "nbconvert_exporter": "python",
   "pygments_lexer": "ipython3",
   "version": "3.9.16"
  },
  "orig_nbformat": 4,
  "vscode": {
   "interpreter": {
    "hash": "7329cea1cfb0b610a2533a87a2a65adf820cf8568f6cacb96e96ba95ff0f2a06"
   }
  }
 },
 "nbformat": 4,
 "nbformat_minor": 2
}
